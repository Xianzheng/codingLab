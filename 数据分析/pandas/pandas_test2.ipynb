{
 "cells": [
  {
   "cell_type": "code",
   "execution_count": 2,
   "metadata": {},
   "outputs": [
    {
     "name": "stdout",
     "output_type": "stream",
     "text": [
      "设备编号, 资产编号, 设备名称, 设备型号, 设备规格, 制造厂, 出厂年月, 使用部门, 安装地点, 立卡年月, 启用年月, ABC分类, 财务分类, 原值(元), 完好状态,当前管理状态, 状态变动日期, 使用年限(年), 供货商, 出厂编号, 单价(元), 设备属性, 生产用途,责任人, 备注\n"
     ]
    }
   ],
   "source": [
    "import pandas as pd\n",
    "df = pd.read_excel('device.xls')\n",
    "\n"
   ]
  },
  {
   "cell_type": "code",
   "execution_count": 14,
   "metadata": {},
   "outputs": [
    {
     "data": {
      "text/plain": [
       "Index(['Unnamed: 0', '设备编号', '资产编号', '设备名称', '设备型号', '设备规格', '制造厂', '出厂年月',\n",
       "       '使用部门', '安装地点', '立卡年月', '启用年月', 'ABC分类', '财务分类', '原值(元)', '完好状态',\n",
       "       '当前管理状态', '状态变动日期', '使用年限(年)', '供货商', '出厂编号', '单价(元)', '设备属性', '生产用途',\n",
       "       '责任人', '备注'],\n",
       "      dtype='object')"
      ]
     },
     "execution_count": 14,
     "metadata": {},
     "output_type": "execute_result"
    }
   ],
   "source": [
    "df.columns"
   ]
  },
  {
   "cell_type": "code",
   "execution_count": 18,
   "metadata": {},
   "outputs": [
    {
     "name": "stdout",
     "output_type": "stream",
     "text": [
      "设备编号=str(lst[0]),资产编号=str(lst[1]),设备名称=str(lst[2]),设备型号=str(lst[3]),设备规格=str(lst[4]),制造厂=str(lst[5]),出厂年月=str(lst[6]),使用部门=str(lst[7]),安装地点=str(lst[8]),立卡年月=str(lst[9]),启用年月=str(lst[10]),ABC分类=str(lst[11]),财务分类=str(lst[12]),原值(元)=str(lst[13]),完好状态=str(lst[14]),当前管理状态=str(lst[15]),状态变动日期=str(lst[16]),使用年限(年)=str(lst[17]),供货商=str(lst[18]),出厂编号=str(lst[19]),单价(元)=str(lst[20]),设备属性=str(lst[21]),生产用途=str(lst[22]),责任人=str(lst[23]),备注=str(lst[24])\n"
     ]
    }
   ],
   "source": [
    "lst = ['设备编号', '资产编号', '设备名称', '设备型号', '设备规格', '制造厂', '出厂年月', '使用部门', '安装地点', '立卡年月', '启用年月', 'ABC分类', '财务分类', '原值(元)', '完好状态','当前管理状态', '状态变动日期', '使用年限(年)', '供货商', '出厂编号', '单价(元)', '设备属性', '生产用途','责任人', '备注']\n",
    "\n",
    "# print('=str(lst[{}]),'.join(lst))\n",
    "\n",
    "for i in range(len(lst)):\n",
    "    lst[i] = lst[i]+'=str(lst[{}])'.format(str(i))\n",
    "\n",
    "print(','.join(lst))\n",
    "\n"
   ]
  }
 ],
 "metadata": {
  "kernelspec": {
   "display_name": "Python 3",
   "language": "python",
   "name": "python3"
  },
  "language_info": {
   "codemirror_mode": {
    "name": "ipython",
    "version": 3
   },
   "file_extension": ".py",
   "mimetype": "text/x-python",
   "name": "python",
   "nbconvert_exporter": "python",
   "pygments_lexer": "ipython3",
   "version": "3.7.8"
  },
  "orig_nbformat": 4,
  "vscode": {
   "interpreter": {
    "hash": "ce537b45b2bb8c7c14255c669742731d0d353851a553027ff035b495cd2715f4"
   }
  }
 },
 "nbformat": 4,
 "nbformat_minor": 2
}
