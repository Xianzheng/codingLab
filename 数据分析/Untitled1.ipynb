{
 "cells": [
  {
   "cell_type": "code",
   "execution_count": null,
   "id": "positive-viking",
   "metadata": {},
   "outputs": [],
   "source": [
    "import pandas as pd\n",
    "import os\n",
    "df = pd.read_excel('./设备台帐信息2022.11.08.xls')"
   ]
  },
  {
   "cell_type": "raw",
   "id": "detected-dollar",
   "metadata": {},
   "source": [
    "df.info()\n",
    "\n"
   ]
  },
  {
   "cell_type": "code",
   "execution_count": null,
   "id": "digital-rough",
   "metadata": {},
   "outputs": [],
   "source": [
    "d1 = df['使用部门']\n",
    "d1_set = set(d1)"
   ]
  },
  {
   "cell_type": "raw",
   "id": "cloudy-statement",
   "metadata": {},
   "source": [
    "d1_set"
   ]
  },
  {
   "cell_type": "code",
   "execution_count": null,
   "id": "correct-sailing",
   "metadata": {},
   "outputs": [],
   "source": [
    "financeDf = df[df['使用部门'] == '财务部']"
   ]
  },
  {
   "cell_type": "raw",
   "id": "individual-ethernet",
   "metadata": {},
   "source": [
    "financeDf"
   ]
  },
  {
   "cell_type": "raw",
   "id": "white-queens",
   "metadata": {},
   "source": [
    "\n",
    "for i in df.iloc[0,:]:\n",
    "    if pd.isnull(i):\n",
    "        print(i)"
   ]
  },
  {
   "cell_type": "raw",
   "id": "brave-amino",
   "metadata": {},
   "source": [
    "赤壁子公司 = df[df['使用部门'] = '赤壁子公司']"
   ]
  },
  {
   "cell_type": "code",
   "execution_count": null,
   "id": "modern-communications",
   "metadata": {},
   "outputs": [],
   "source": [
    "赤壁子公司 = df[df['使用部门'] == '赤壁子公司']"
   ]
  },
  {
   "cell_type": "code",
   "execution_count": null,
   "id": "engaging-threshold",
   "metadata": {},
   "outputs": [],
   "source": [
    "type(赤壁子公司)\n",
    "if os.path.exists('赤壁子公司.csv'):\n",
    "    赤壁子公司.to_csv('赤壁子公司.csv')\n",
    "else:\n",
    "    pass"
   ]
  },
  {
   "cell_type": "raw",
   "id": "signal-tutorial",
   "metadata": {},
   "source": [
    "赤壁子公司.drop(columns = '使用部门')"
   ]
  },
  {
   "cell_type": "code",
   "execution_count": null,
   "id": "detected-founder",
   "metadata": {},
   "outputs": [
    {
     "data": {
      "text/plain": [
       "337"
      ]
     },
     "execution_count": 120,
     "metadata": {},
     "output_type": "execute_result"
    }
   ],
   "source": [
    "set(赤壁子公司['设备名称'])\n",
    "len(set(赤壁子公司['设备名称']))"
   ]
  },
  {
   "cell_type": "code",
   "execution_count": null,
   "id": "unusual-nigeria",
   "metadata": {},
   "outputs": [],
   "source": [
    "\n",
    "t = 赤壁子公司\n",
    "group = t.groupby(['设备名称'])\n",
    "df1 = group['当前管理状态'].value_counts() \n",
    "\n",
    "dict(df1).keys()"
   ]
  },
  {
   "cell_type": "code",
   "execution_count": null,
   "id": "improving-question",
   "metadata": {},
   "outputs": [
    {
     "data": {
      "text/plain": [
       "['设备编号',\n",
       " '资产编号',\n",
       " '设备名称',\n",
       " '设备型号',\n",
       " '设备规格',\n",
       " '制造厂',\n",
       " '出厂年月',\n",
       " '使用部门',\n",
       " '安装地点',\n",
       " '立卡年月',\n",
       " '启用年月',\n",
       " 'ABC分类',\n",
       " '财务分类',\n",
       " '原值(元)',\n",
       " '完好状态',\n",
       " '当前管理状态',\n",
       " '状态变动日期',\n",
       " '使用年限(年)',\n",
       " '供货商',\n",
       " '出厂编号',\n",
       " '单价(元)',\n",
       " '设备属性',\n",
       " '生产用途',\n",
       " '责任人',\n",
       " '备注']"
      ]
     },
     "execution_count": 169,
     "metadata": {},
     "output_type": "execute_result"
    }
   ],
   "source": [
    "test = t.iloc[:,1:]\n",
    "list(test.columns)\n"
   ]
  },
  {
   "cell_type": "code",
   "execution_count": null,
   "id": "dramatic-tunisia",
   "metadata": {},
   "outputs": [
    {
     "data": {
      "text/plain": [
       "1362"
      ]
     },
     "execution_count": 175,
     "metadata": {},
     "output_type": "execute_result"
    }
   ],
   "source": [
    "len(t)"
   ]
  },
  {
   "cell_type": "code",
   "execution_count": null,
   "id": "seven-birthday",
   "metadata": {},
   "outputs": [],
   "source": [
    "t.head(20)"
   ]
  },
  {
   "cell_type": "code",
   "execution_count": null,
   "id": "electronic-father",
   "metadata": {},
   "outputs": [],
   "source": []
  }
 ],
 "metadata": {
  "kernelspec": {
   "display_name": "Python 3",
   "language": "python",
   "name": "python3"
  },
  "language_info": {
   "codemirror_mode": {
    "name": "ipython",
    "version": 3
   },
   "file_extension": ".py",
   "mimetype": "text/x-python",
   "name": "python",
   "nbconvert_exporter": "python",
   "pygments_lexer": "ipython3",
   "version": "3.7.8"
  }
 },
 "nbformat": 4,
 "nbformat_minor": 5
}
